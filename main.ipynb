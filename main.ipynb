{
 "cells": [
  {
   "cell_type": "code",
   "execution_count": 1,
   "metadata": {},
   "outputs": [],
   "source": [
    "from google_play_scraper import app\n",
    "\n",
    "import pandas as pd\n",
    "import numpy as np"
   ]
  },
  {
   "cell_type": "code",
   "execution_count": 4,
   "metadata": {},
   "outputs": [],
   "source": [
    "# Scrape desired number of reviews\n",
    "from google_play_scraper import Sort, reviews\n",
    "\n",
    "result, continuation_token = reviews(\n",
    "    \"com.linkedin.android\",\n",
    "\n",
    "    lang=\"id\",  # defaults to 'en'\n",
    "    country=\"id\",  # defaults to 'us'\n",
    "\n",
    "    sort=Sort.NEWEST,  # defaults to Sort.MOST_RELEVANT\n",
    "    count=1000,  # defaults to 100\n",
    "\n",
    "    filter_score_with=None  # defaults to None (means all score) Use 1 or 2 or 3 or 4 or 5 to select certain score\n",
    ")\n",
    "\n",
    "df_busu = pd.DataFrame(np.array(result), columns=['review'])\n",
    "\n",
    "df_busu = df_busu.join(pd.DataFrame(df_busu.pop('review').tolist()))\n",
    "\n",
    "df_busu.tail()\n",
    "\n",
    "df_busu.head()\n",
    "len(df_busu.index)\n",
    "df_busu.to_csv(\"data scraping linkedin.csv\", index=False)"
   ]
  }
 ],
 "metadata": {
  "kernelspec": {
   "display_name": "base",
   "language": "python",
   "name": "python3"
  },
  "language_info": {
   "codemirror_mode": {
    "name": "ipython",
    "version": 3
   },
   "file_extension": ".py",
   "mimetype": "text/x-python",
   "name": "python",
   "nbconvert_exporter": "python",
   "pygments_lexer": "ipython3",
   "version": "3.12.4"
  }
 },
 "nbformat": 4,
 "nbformat_minor": 2
}
